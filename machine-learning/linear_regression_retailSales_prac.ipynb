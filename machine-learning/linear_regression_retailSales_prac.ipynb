{
 "cells": [
  {
   "cell_type": "markdown",
   "id": "0ff3d73b-4744-426f-9c3b-6c23a4849511",
   "metadata": {},
   "source": [
    "# Breakdown \n",
    "\n",
    "This practice I completed is use case of a linear regression model. First I will be hardcoding the model and then checking with the libraries\n",
    "\n",
    "## Scenerio\n",
    "I am working with a retail chain that wants to predict its monthly sales. This will help their inventory management, staff scheduling, and financial planning. \n",
    "\n",
    "## Features\n",
    "* Advertising Spend: Monthly budget going to marketing campaigns\n",
    "* Promotional Discount: Avg discount offered monthly\n",
    "* Competitor Price Index: Measure of competitors pricing (>1 means competitors or more expensive)\n",
    "* Consumer Confidence Index: Economic indicator of consumer optimism\n",
    "* Seasonality: Captures yearly patterns in sale\n",
    "\n",
    "## Target Variable\n",
    "* Monthly Sales: Total sales for each month\n",
    "\n",
    "## Data Prep\n",
    "Creating synthetic data to simulate real-world scenerio. "
   ]
  },
  {
   "cell_type": "code",
   "execution_count": 1,
   "id": "1e85e5a1-e0fe-404a-926f-b5ac08005e39",
   "metadata": {},
   "outputs": [],
   "source": [
    "import pandas as pd \n",
    "import numpy as np \n",
    "from sklearn.model_selection import train_test_split\n",
    "from sklearn.linear_model import LinearRegression\n",
    "from sklearn.metrics import mean_squared_error, r2_score\n",
    "from sklearn.preprocessing import StandardScaler\n",
    "import matplotlib.pyplot as plt"
   ]
  },
  {
   "cell_type": "code",
   "execution_count": 5,
   "id": "df66abbf-7aff-4cb0-b3b0-35851060c68b",
   "metadata": {},
   "outputs": [],
   "source": [
    "#Data Generation \n",
    "np.random.seed(42)\n",
    "dates = pd.date_range(start = '2020-01-01', end= '2023-12-31', freq = 'ME') \n",
    "data = pd.DataFrame({ \n",
    "    'date': dates,\n",
    "    'advertising_spend': np.random.randint(50000, 150000, size=len(dates)),\n",
    "    'promo_discount': np.random.uniform(0.05, 0.25, size=len(dates)),\n",
    "    'competitor_price_index': np.random.uniform(0.8, 1.2, size=len(dates)),\n",
    "    'consumer_confidence_index': np.random.uniform(80, 120, size=len(dates)),\n",
    "    'seasonality': np.sin(np.arange(len(dates)) * (2 * np.pi / 12))\n",
    "})\n",
    "\n",
    "data['monthly_sales'] = (\n",
    "    500000 +\n",
    "    50 * data['advertising_spend'] +\n",
    "    -1000000 * data['promo_discount'] +\n",
    "    200000 * data['competitor_price_index'] +\n",
    "    5000 * data['consumer_confidence_index'] +\n",
    "    100000 * data['seasonality'] +\n",
    "    np.random.normal(0, 50000, size=len(dates))\n",
    ")"
   ]
  },
  {
   "cell_type": "code",
   "execution_count": 6,
   "id": "244472ae-60a3-400e-8d8f-4f34faab58b1",
   "metadata": {},
   "outputs": [],
   "source": [
    "#Data prep\n",
    "features = ['advertising_spend', 'promo_discount', 'competitor_price_index', 'consumer_confidence_index', 'seasonality']\n",
    "X = data[features]\n",
    "y = data['monthly_sales']"
   ]
  },
  {
   "cell_type": "code",
   "execution_count": 7,
   "id": "8615bf37-75c6-4d69-b6b3-c0e495f43b2c",
   "metadata": {},
   "outputs": [],
   "source": [
    "#Standarize Features\n",
    "scaler = StandardScaler()\n",
    "X_scaled = scaler.fit_transform(X)"
   ]
  },
  {
   "cell_type": "code",
   "execution_count": 8,
   "id": "affe2a41-cebf-4576-b550-0dc08c4e66da",
   "metadata": {},
   "outputs": [],
   "source": [
    "#Splitting Data\n",
    "X_train, X_test, y_train, y_test = train_test_split(X_scaled, y, test_size=0.2, random_state=42)"
   ]
  },
  {
   "cell_type": "code",
   "execution_count": 11,
   "id": "6d546c6c-81f1-40f1-8305-ad78a665c940",
   "metadata": {},
   "outputs": [],
   "source": [
    "#Manually implementing linear regression\n",
    "def manual_linear_regression(X, y): \n",
    "    #adding columns of ones to X for intercept term\n",
    "    X_with_intercept = np.column_stack((np.ones(X.shape[0]), X))\n",
    "\n",
    "    #calculating coefficients using equation\n",
    "    coefficients = np.linalg.inv(X_with_intercept.T @ X_with_intercept) @ X_with_intercept.T @ y\n",
    "\n",
    "    return coefficients\n",
    "\n",
    "def manual_predict(X, coefficients): \n",
    "    X_with_intercept = np.column_stack((np.ones(X.shape[0]), X))\n",
    "    return X_with_intercept @ coefficients"
   ]
  },
  {
   "cell_type": "code",
   "execution_count": 12,
   "id": "967f7a96-d19e-47de-9a5e-369a6c49e26b",
   "metadata": {},
   "outputs": [],
   "source": [
    "#manual fit\n",
    "manual_coefficients = manual_linear_regression(X_train, y_train)"
   ]
  },
  {
   "cell_type": "code",
   "execution_count": 13,
   "id": "33e657b7-43d9-4a35-9287-a955cf7fc455",
   "metadata": {},
   "outputs": [],
   "source": [
    "#make predictions manually\n",
    "y_pred_manual = manual_predict(X_test, manual_coefficients)"
   ]
  },
  {
   "cell_type": "code",
   "execution_count": 16,
   "id": "342cbcd3-f9ba-495f-93f2-81ca2d52e79d",
   "metadata": {},
   "outputs": [],
   "source": [
    "#calculating manual MSE and R-squared\n",
    "mse_manual = np.mean((y_test - y_pred_manual) ** 2)\n",
    "ss_total = np.sum((y_test - np.mean(y_test)) ** 2)\n",
    "ss_residual = np.sum((y_test - y_pred_manual) ** 2)\n",
    "r2_manual = 1 - (ss_residual / ss_total)"
   ]
  },
  {
   "cell_type": "code",
   "execution_count": 17,
   "id": "cb8bd3fe-9a4d-4228-8ee1-ead6b2e71630",
   "metadata": {},
   "outputs": [
    {
     "name": "stdout",
     "output_type": "stream",
     "text": [
      "Manual Linear Regression Results:\n",
      "Coefficients: [1473075.61583119  -58686.51931866   22388.7388028    62176.00957318\n",
      "   70199.77261605]\n",
      "Intercept: 6071024.540758734\n",
      "Mean Squared Error: 2236100009.3382754\n",
      "R-squared Score: 0.9991894497894311\n"
     ]
    }
   ],
   "source": [
    "print(\"Manual Linear Regression Results:\")\n",
    "print(f\"Coefficients: {manual_coefficients[1:]}\")\n",
    "print(f\"Intercept: {manual_coefficients[0]}\")\n",
    "print(f\"Mean Squared Error: {mse_manual}\")\n",
    "print(f\"R-squared Score: {r2_manual}\")"
   ]
  },
  {
   "cell_type": "code",
   "execution_count": 20,
   "id": "75b108a7-0ac6-41b2-aabd-fb6ebc800daf",
   "metadata": {},
   "outputs": [],
   "source": [
    "#now I deploy sckit-leanr for comparison\n",
    "model = LinearRegression()\n",
    "model.fit(X_train, y_train)\n",
    "\n",
    "y_pred_sklearn = model.predict(X_test)\n",
    "\n",
    "mse_sklearn = mean_squared_error(y_test, y_pred_sklearn)\n",
    "r2_sklearn = r2_score(y_test, y_pred_sklearn)"
   ]
  },
  {
   "cell_type": "code",
   "execution_count": 21,
   "id": "bc3f44a3-895d-48f8-a815-2cf2216ec3fc",
   "metadata": {},
   "outputs": [
    {
     "name": "stdout",
     "output_type": "stream",
     "text": [
      "\n",
      "Scikit-learn Linear Regression Results:\n",
      "Coefficients: [1473075.61583119  -58686.51931866   22388.7388028    62176.00957318\n",
      "   70199.77261605]\n",
      "Intercept: 6071024.540758735\n",
      "Mean Squared Error: 2236100009.3382444\n",
      "R-squared Score: 0.9991894497894311\n"
     ]
    }
   ],
   "source": [
    "print(\"\\nScikit-learn Linear Regression Results:\")\n",
    "print(f\"Coefficients: {model.coef_}\")\n",
    "print(f\"Intercept: {model.intercept_}\")\n",
    "print(f\"Mean Squared Error: {mse_sklearn}\")\n",
    "print(f\"R-squared Score: {r2_sklearn}\")"
   ]
  },
  {
   "cell_type": "code",
   "execution_count": 23,
   "id": "bd2f137e-8ef7-4e3b-9de2-6a70f5d06e1d",
   "metadata": {},
   "outputs": [
    {
     "data": {
      "image/png": "[encoded data removed]",
      "text/plain": [
       "<Figure size 640x480 with 2 Axes>"
      ]
     },
     "metadata": {},
     "output_type": "display_data"
    }
   ],
   "source": [
    "#visualizing result\n",
    "plt.subplot(1, 2, 1)\n",
    "plt.scatter(y_test, y_pred_manual, color='blue', alpha=0.5)\n",
    "plt.plot([y_test.min(), y_test.max()], [y_test.min(), y_test.max()], 'r--', lw=2)\n",
    "plt.xlabel(\"Actual Monthly Sales\")\n",
    "plt.ylabel(\"Predicted Monthly Sales\")\n",
    "plt.title(\"Manual Linear Regression\")\n",
    "\n",
    "plt.subplot(1, 2, 2)\n",
    "plt.scatter(y_test, y_pred_sklearn, color='green', alpha=0.5)\n",
    "plt.plot([y_test.min(), y_test.max()], [y_test.min(), y_test.max()], 'r--', lw=2)\n",
    "plt.xlabel(\"Actual Monthly Sales\")\n",
    "plt.ylabel(\"Predicted Monthly Sales\")\n",
    "plt.title(\"Scikit-learn Linear Regression\")\n",
    "\n",
    "plt.tight_layout()\n",
    "plt.show()"
   ]
  },
  {
   "cell_type": "code",
   "execution_count": 24,
   "id": "ddf93fba-8919-48d8-9d0c-0779e32f90a3",
   "metadata": {},
   "outputs": [
    {
     "name": "stdout",
     "output_type": "stream",
     "text": [
      "\n",
      "Comparison of predictions:\n",
      "          Actual  Manual Prediction  Sklearn Prediction\n",
      "27  7.783837e+06       7.832683e+06        7.832683e+06\n",
      "40  3.865290e+06       3.793241e+06        3.793241e+06\n",
      "26  4.960563e+06       4.890651e+06        4.890651e+06\n",
      "43  7.404305e+06       7.384183e+06        7.384183e+06\n",
      "24  7.005974e+06       7.086369e+06        7.086369e+06\n"
     ]
    }
   ],
   "source": [
    "#Comparing Predicition\n",
    "print(\"\\nComparison of predictions:\")\n",
    "comparison = pd.DataFrame({\n",
    "    'Actual': y_test,\n",
    "    'Manual Prediction': y_pred_manual,\n",
    "    'Sklearn Prediction': y_pred_sklearn\n",
    "})\n",
    "print(comparison.head())"
   ]
  },
  {
   "cell_type": "code",
   "execution_count": 25,
   "id": "76f060ae-9a23-4865-9a81-2f68f6f57c3a",
   "metadata": {},
   "outputs": [
    {
     "name": "stdout",
     "output_type": "stream",
     "text": [
      "\n",
      "Average difference between manual and sklearn predictions: 0.00\n",
      "Maximum difference between manual and sklearn predictions: 0.00\n"
     ]
    }
   ],
   "source": [
    "# Calculate and print the difference between manual and sklearn predictions\n",
    "prediction_difference = np.abs(y_pred_manual - y_pred_sklearn)\n",
    "print(f\"\\nAverage difference between manual and sklearn predictions: {np.mean(prediction_difference):.2f}\")\n",
    "print(f\"Maximum difference between manual and sklearn predictions: {np.max(prediction_difference):.2f}\")"
   ]
  },
  {
   "cell_type": "code",
   "execution_count": null,
   "id": "10b1fabe-1bff-4c64-95c1-e4699b4739bf",
   "metadata": {},
   "outputs": [],
   "source": [
    "#SUCCESSSSS"
   ]
  }
 ],
 "metadata": {
  "kernelspec": {
   "display_name": "Python 3 (ipykernel)",
   "language": "python",
   "name": "python3"
  },
  "language_info": {
   "codemirror_mode": {
    "name": "ipython",
    "version": 3
   },
   "file_extension": ".py",
   "mimetype": "text/x-python",
   "name": "python",
   "nbconvert_exporter": "python",
   "pygments_lexer": "ipython3",
   "version": "3.12.3"
  }
 },
 "nbformat": 4,
 "nbformat_minor": 5
}
